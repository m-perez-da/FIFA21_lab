{
 "cells": [
  {
   "cell_type": "code",
   "execution_count": 1,
   "id": "9de11a42",
   "metadata": {},
   "outputs": [],
   "source": [
    "import pandas as pd\n",
    "import numpy as np\n",
    "import math\n",
    "import matplotlib.pyplot as plt\n",
    "import seaborn as sns \n",
    "%matplotlib inline "
   ]
  },
  {
   "cell_type": "code",
   "execution_count": 2,
   "id": "ffdca31a",
   "metadata": {},
   "outputs": [],
   "source": [
    "def clean (data):\n",
    "    data = pd.read_csv(data)\n",
    "    data = data.drop_duplicates()  # removing duplicates\n",
    "    \n",
    "    # convertion of weight to integer\n",
    "    weight =lambda x: int(x.replace('lbs',''))  # weight to integer\n",
    "    data['Weight']=list(map(weight, data['Weight']))\n",
    "    \n",
    "    # convertion of height to integer\n",
    "    def height (x):\n",
    "        x=x.replace('\"','')\n",
    "        f,i=x.split(\"\\'\")\n",
    "        x=round(int(f)+int(i)/12,2)\n",
    "        return x\n",
    "    data['Height']=list(map(height, data['Height']))\n",
    "    \n",
    "    # convertion of amounts (€) to integer\n",
    "    def amount (x):\n",
    "        x=x.replace('€','')\n",
    "        if 'K' in x:\n",
    "            scalar=1000\n",
    "            x=x.replace('K','')\n",
    "        elif 'M' in x:\n",
    "            scalar=1000000\n",
    "            x=x.replace('M','')\n",
    "        else:\n",
    "            scalar=1\n",
    "        x=pd.to_numeric(x, errors='coerce')*scalar\n",
    "        return x\n",
    "    \n",
    "    data['Value']=list(map(amount, data['Value']))\n",
    "    data['Wage']=list(map(amount, data['Wage']))\n",
    "    data['Release Clause']=list(map(amount, data['Release Clause']))\n",
    "    data['Hits']=list(map(amount, data['Hits']))\n",
    "    \n",
    "    # clean the symbol '★' in those columns which have it\n",
    "    data['W/F'] = data['W/F'].str.rstrip('★').astype('int')\n",
    "    data['SM'] = data['SM'].str.rstrip('★').astype('int')\n",
    "    data['IR'] = data['IR'].str.rstrip('★').astype('int')\n",
    "    \n",
    "    data_num=data.select_dtypes(include = np.number)\n",
    "    \n",
    "    # Looking for high correlation between columns of the same cathegory with corr > 85%\n",
    "    \n",
    "    #I'm going to eliminate the columns related with Attacking\n",
    "    data_num = data_num.drop(['Crossing', 'Finishing', 'Short Passing', 'Volleys'], axis=1)\n",
    "    \n",
    "    #I'm going to eliminate the columns related with Skill\n",
    "    data_num = data_num.drop(['Dribbling', 'Curve', 'FK Accuracy', 'Long Passing', 'Ball Control'], axis=1)\n",
    "    \n",
    "    #I'm going to eliminate the columns which sum is Movement\n",
    "    data_num = data_num.drop(['Acceleration', 'Sprint Speed', 'Agility', 'Balance'], axis=1)\n",
    "    \n",
    "    #I'm going to eliminate the column Strenght\n",
    "    data_num = data_num.drop(['Strength'], axis=1)\n",
    "\n",
    "    #I'm going to eliminate none of the columns which sum is Mentality\n",
    "    #data_num = data_num.drop(['Aggression', 'Interceptions', 'Positioning', 'Vision', 'Penalties','Composure'], axis=1)\n",
    "    \n",
    "    #I'm going to eliminate the columns related with Defending\n",
    "    data_num = data_num.drop(['Marking', 'Standing Tackle', 'Sliding Tackle'], axis=1)\n",
    "\n",
    "    #I'm going to eliminate the columns which sum is Goalkeeping\n",
    "    data_num = data_num.drop(['GK Diving', 'GK Handling', 'GK Kicking', 'GK Positioning', 'GK Reflexes'], axis=1)\n",
    "    \n",
    "    #I'm going to replace the NaN with the mean\n",
    "    for col in data_num:\n",
    "        mean = int(data_num[col].mean())\n",
    "        data_num[col] = data_num[col].fillna(mean)\n",
    "    \n",
    "    #I'll eliminate all the categories with corr>85%\n",
    "    data_num = data_num.drop(['Release Clause', 'Wage', 'Total Stats', 'Skill', 'Mentality', 'Long Shots', 'Positioning', 'Defending', 'Interceptions'], axis=1)\n",
    "    \n",
    "    data_cat=data.select_dtypes(include = object)\n",
    "    \n",
    "    data_cat = data_cat.drop(['Name','Nationality','Club', 'Position', 'Team & Contract', 'Joined', 'Loan Date End', 'Contract'], axis=1)\n",
    "    \n",
    "    data_cat=data_cat.drop(['LS', 'ST', 'RS', 'LW', 'LF', 'CF', 'RF',\n",
    "       'RW', 'LAM', 'CAM', 'RAM', 'LM', 'LCM', 'CM', 'RCM', 'RM', 'LWB', 'LDM',\n",
    "       'CDM', 'RDM', 'RWB', 'LB', 'LCB', 'CB', 'RCB', 'RB', 'GK'], axis=1)\n",
    "    \n",
    "    data_cat['A/W']=data_cat['A/W'].fillna('Medium')\n",
    "    \n",
    "    data_cat['D/W']=data_cat['D/W'].fillna('Medium')\n",
    "    \n",
    "    file= pd.concat([data_num, data_cat], axis=1)\n",
    "    \n",
    "    from sklearn.preprocessing import OneHotEncoder\n",
    "\n",
    "    X_num = file.select_dtypes(include = np.number)\n",
    "    X_cat = file.select_dtypes(include = object)\n",
    "    \n",
    "    encoder = OneHotEncoder(drop='first').fit(X_cat)\n",
    "    cols = encoder.get_feature_names(input_features=X_cat.columns)\n",
    "    X_cat_encode = pd.DataFrame(encoder.transform(X_cat).toarray(),columns=cols)\n",
    "    \n",
    "    data = pd.concat([X_num, X_cat_encode], axis=1)\n",
    "    \n",
    "    return (data)"
   ]
  },
  {
   "cell_type": "code",
   "execution_count": 3,
   "id": "272d5af8",
   "metadata": {},
   "outputs": [],
   "source": [
    "train=clean ('fifa21_train.csv')"
   ]
  },
  {
   "cell_type": "code",
   "execution_count": 4,
   "id": "fbfeada3",
   "metadata": {},
   "outputs": [],
   "source": [
    "test=clean ('fifa21_validate.csv')"
   ]
  },
  {
   "cell_type": "code",
   "execution_count": 6,
   "id": "eaa5d6d4",
   "metadata": {},
   "outputs": [],
   "source": [
    "y_train = train['OVA']\n",
    "X_train = train.drop(['OVA'], axis=1)\n",
    "y_test = test['OVA']\n",
    "X_test = test.drop(['OVA'], axis=1)"
   ]
  },
  {
   "cell_type": "code",
   "execution_count": 7,
   "id": "707da711",
   "metadata": {},
   "outputs": [
    {
     "data": {
      "text/plain": [
       "LinearRegression()"
      ]
     },
     "execution_count": 7,
     "metadata": {},
     "output_type": "execute_result"
    }
   ],
   "source": [
    "from sklearn import linear_model\n",
    "lm = linear_model.LinearRegression()\n",
    "lm.fit(X_train,y_train)"
   ]
  },
  {
   "cell_type": "code",
   "execution_count": 9,
   "id": "f4a299c5",
   "metadata": {},
   "outputs": [
    {
     "name": "stdout",
     "output_type": "stream",
     "text": [
      "R2 for train: 0.9113350937265148\n",
      "R2 for test: 0.9064110113467082\n",
      "Train MSE: 4.1917621553880595\n",
      "Test MSE: 4.282770729873132\n",
      "Train RMSE: 2.047379338419742\n",
      "Test RMSE: 2.0694856196342926\n",
      "Train MAE: 1.576613392220461\n",
      "Test MAE: 1.5994937324139162\n"
     ]
    }
   ],
   "source": [
    "#Now I'll calculate R2 score, MSE, RMSE and MAE\n",
    "from sklearn.metrics import r2_score, mean_squared_error, mean_absolute_error\n",
    "train_pred = lm.predict(X_train)\n",
    "test_pred = lm.predict(X_test)\n",
    "r2t = r2_score(y_train, train_pred)\n",
    "print(\"R2 for train:\", r2t)\n",
    "r2s = r2_score(y_test, test_pred)\n",
    "print(\"R2 for test:\", r2s)\n",
    "train_mse = mean_squared_error(train_pred, y_train)\n",
    "print ('Train MSE: {}'.format(train_mse))\n",
    "test_mse = mean_squared_error(test_pred, y_test)\n",
    "print ('Test MSE: {}'.format(test_mse))\n",
    "train_rmse = math.sqrt(train_mse)\n",
    "print(\"Train RMSE:\", train_rmse)\n",
    "test_rmse = math.sqrt(test_mse)\n",
    "print(\"Test RMSE:\", test_rmse)\n",
    "train_mae = mean_absolute_error(y_train, train_pred)\n",
    "print(\"Train MAE:\", train_mae)\n",
    "test_mae = mean_absolute_error(y_test, test_pred)\n",
    "print(\"Test MAE:\", test_mae)"
   ]
  },
  {
   "cell_type": "code",
   "execution_count": null,
   "id": "40a644f9",
   "metadata": {},
   "outputs": [],
   "source": []
  },
  {
   "cell_type": "code",
   "execution_count": null,
   "id": "23438972",
   "metadata": {},
   "outputs": [],
   "source": []
  }
 ],
 "metadata": {
  "kernelspec": {
   "display_name": "Python 3 (ipykernel)",
   "language": "python",
   "name": "python3"
  },
  "language_info": {
   "codemirror_mode": {
    "name": "ipython",
    "version": 3
   },
   "file_extension": ".py",
   "mimetype": "text/x-python",
   "name": "python",
   "nbconvert_exporter": "python",
   "pygments_lexer": "ipython3",
   "version": "3.9.7"
  }
 },
 "nbformat": 4,
 "nbformat_minor": 5
}
